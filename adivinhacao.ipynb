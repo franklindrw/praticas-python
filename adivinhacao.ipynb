{
 "cells": [
  {
   "attachments": {},
   "cell_type": "markdown",
   "metadata": {},
   "source": [
    "Definindo o título no cabeçalho"
   ]
  },
  {
   "cell_type": "code",
   "execution_count": 2,
   "metadata": {},
   "outputs": [
    {
     "name": "stdout",
     "output_type": "stream",
     "text": [
      "*********************************\n",
      "Bem vindo ao jogo de adivinhação!\n",
      "*********************************\n"
     ]
    }
   ],
   "source": [
    "print('*********************************')\n",
    "print('Bem vindo ao jogo de adivinhação!')\n",
    "print('*********************************')"
   ]
  },
  {
   "attachments": {},
   "cell_type": "markdown",
   "metadata": {},
   "source": [
    "Criando a variável de numero secreto e pegando o valor no input para comparar"
   ]
  },
  {
   "cell_type": "code",
   "execution_count": 7,
   "metadata": {},
   "outputs": [
    {
     "name": "stdout",
     "output_type": "stream",
     "text": [
      "Você acertou!\n"
     ]
    }
   ],
   "source": [
    "numero_secreto = 15\n",
    "\n",
    "chute = int(input('Digite o seu número: '))\n",
    "\n",
    "acertou = numero_secreto == chute\n",
    "maior = chute > numero_secreto\n",
    "menor = chute < numero_secreto\n",
    "\n",
    "if (acertou):\n",
    "    print('Você acertou!')\n",
    "else:\n",
    "    if(maior):\n",
    "        print('Você errou! O seu número é maior que o número secreto!')\n",
    "    elif(menor):\n",
    "        print('Você errou! O seu número é menor que o número secreto!')"
   ]
  }
 ],
 "metadata": {
  "kernelspec": {
   "display_name": "Python 3",
   "language": "python",
   "name": "python3"
  },
  "language_info": {
   "codemirror_mode": {
    "name": "ipython",
    "version": 3
   },
   "file_extension": ".py",
   "mimetype": "text/x-python",
   "name": "python",
   "nbconvert_exporter": "python",
   "pygments_lexer": "ipython3",
   "version": "3.10.10"
  },
  "orig_nbformat": 4
 },
 "nbformat": 4,
 "nbformat_minor": 2
}
